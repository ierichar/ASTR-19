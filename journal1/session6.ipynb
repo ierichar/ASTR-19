{
 "cells": [
  {
   "cell_type": "markdown",
   "id": "8a02aec6",
   "metadata": {},
   "source": [
    "# Session 6\n",
    "## Ian Richardson\n",
    "## ASTR 19\n",
    "## 04/21/2022\n",
    "This program will tabulate the sine and cosine values of 0 to 2PI with a thousand entries. Then, the first 10 values will be printed."
   ]
  },
  {
   "cell_type": "code",
   "execution_count": null,
   "id": "0715e0b2",
   "metadata": {},
   "outputs": [],
   "source": [
    "import numpy as np\n",
    "from tabulate import tabulate"
   ]
  },
  {
   "cell_type": "markdown",
   "id": "e9b31c50",
   "metadata": {},
   "source": [
    "sin(x):\n",
    "This function accepts a float value of x and returns the sine of x."
   ]
  },
  {
   "cell_type": "code",
   "execution_count": null,
   "id": "9016bc73",
   "metadata": {},
   "outputs": [],
   "source": [
    "def sin(x):\n",
    "    return np.sin(x)"
   ]
  },
  {
   "cell_type": "markdown",
   "id": "15b7d54c",
   "metadata": {},
   "source": [
    "cos(x):\n",
    "This function accepts a float value of x and returns the cosine of x."
   ]
  },
  {
   "cell_type": "code",
   "execution_count": null,
   "id": "ab1fbdd5",
   "metadata": {},
   "outputs": [],
   "source": [
    "def cos(x):\n",
    "    return np.cos(x)"
   ]
  },
  {
   "cell_type": "code",
   "execution_count": null,
   "id": "fc20271c",
   "metadata": {},
   "outputs": [
    {
     "ename": "",
     "evalue": "",
     "output_type": "error",
     "traceback": [
      "\u001b[1;31mRunning cells with 'Python 3.8.2 64-bit' requires ipykernel package.\n",
      "Run the following command to install 'ipykernel' into the Python environment. \n",
      "Command: 'C:/Users/User/AppData/Local/Programs/Python/Python38/python.exe -m pip install ipykernel -U --user --force-reinstall'"
     ]
    }
   ],
   "source": [
    "n = 1000\n",
    "z = np.arange(n,dtype=float)\n",
    "z *= 2.0*np.pi / float(n)\n",
    "sin_z = sin(z)\n",
    "cos_z = cos(z)\n",
    "\n",
    "t = []\n",
    "for i in range(10):\n",
    "    t.append([z[i], sin_z[i], cos_z[i]])"
   ]
  },
  {
   "cell_type": "code",
   "execution_count": null,
   "id": "f74cc4b5",
   "metadata": {},
   "outputs": [
    {
     "ename": "",
     "evalue": "",
     "output_type": "error",
     "traceback": [
      "\u001b[1;31mRunning cells with 'Python 3.8.2 64-bit' requires ipykernel package.\n",
      "Run the following command to install 'ipykernel' into the Python environment. \n",
      "Command: 'C:/Users/User/AppData/Local/Programs/Python/Python38/python.exe -m pip install ipykernel -U --user --force-reinstall'"
     ]
    }
   ],
   "source": [
    "print(tabulate(t, headers=[\"x\", \"sin(x)\", \"cos(x)\"]))"
   ]
  }
 ],
 "metadata": {
  "kernelspec": {
   "display_name": "Python 3 (ipykernel)",
   "language": "python",
   "name": "python3"
  },
  "language_info": {
   "codemirror_mode": {
    "name": "ipython",
    "version": 3
   },
   "file_extension": ".py",
   "mimetype": "text/x-python",
   "name": "python",
   "nbconvert_exporter": "python",
   "pygments_lexer": "ipython3",
   "version": "3.8.2"
  }
 },
 "nbformat": 4,
 "nbformat_minor": 5
}
