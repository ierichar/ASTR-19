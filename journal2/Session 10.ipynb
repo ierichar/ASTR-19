{
 "cells": [
  {
   "cell_type": "markdown",
   "id": "df26eb33",
   "metadata": {},
   "source": [
    "# Session 10\n",
    "Ian Richardson\n",
    "\n",
    "ASTR 19\n",
    "\n",
    "May 5th, 2022\n",
    "### Description\n",
    "This program first imports matplotlib and numpy and then uses a normal (Gaussian) distribution (other than uniform) and pulls 1000 random numbers from that distribution. The program creates a Histogram from the random numbers into 100 bins, and plots the histogram. The axes are labelled and the figure is saved as a PDF."
   ]
  },
  {
   "cell_type": "code",
   "execution_count": null,
   "id": "34a3b600",
   "metadata": {},
   "outputs": [],
   "source": [
    "import matplotlib.pyplot as plt\n",
    "import numpy as np"
   ]
  },
  {
   "cell_type": "code",
   "execution_count": null,
   "id": "9b1ae10e",
   "metadata": {},
   "outputs": [],
   "source": [
    "# Using numpy's normal Gaussian distribution generate 1000 \n",
    "# random numbers distributed uniformly between [0,1]\n",
    "n = 1000\n",
    "\n",
    "mu, sigma = 0, 0.1\n",
    "x = np.random.normal(loc=mu, scale=sigma, size=n)"
   ]
  },
  {
   "cell_type": "code",
   "execution_count": null,
   "id": "b2363258",
   "metadata": {},
   "outputs": [],
   "source": [
    "# Histogram into 100 bins\n",
    "count, bins, ignored = plt.hist(x, 100, density=True, alpha=0.5, edgecolor='black')\n",
    "\n",
    "# Labels\n",
    "plt.title('Gaussian Distribution')\n",
    "plt.ylabel('N per bin')\n",
    "plt.xlabel('x')\n",
    "\n",
    "# Plot histogram\n",
    "plt.show()\n",
    "\n",
    "# Save as pdf\n",
    "plt.savefig('session10_histogram.pdf', bbox_inches='tight', facecolor='white')"
   ]
  }
 ],
 "metadata": {
  "kernelspec": {
   "display_name": "Python 3 (ipykernel)",
   "language": "python",
   "name": "python3"
  },
  "language_info": {
   "codemirror_mode": {
    "name": "ipython",
    "version": 3
   },
   "file_extension": ".py",
   "mimetype": "text/x-python",
   "name": "python",
   "nbconvert_exporter": "python",
   "pygments_lexer": "ipython3",
   "version": "3.8.10"
  }
 },
 "nbformat": 4,
 "nbformat_minor": 5
}
