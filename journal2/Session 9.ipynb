{
 "cells": [
  {
   "cell_type": "markdown",
   "id": "51a8efc8",
   "metadata": {},
   "source": [
    "# Session 9\n",
    "Ian Richardson\n",
    "\n",
    "ASTR 19 \n",
    "\n",
    "May 3rd, 2022\n",
    "### Description\n",
    "This program imports matplotlib. It then uses numpy to pull 1000 random numbers distributed uniformly between [0,1]. The program histograms the random numbers into 100 bins, and plots the histogram. The program labels the axes and save the figure as a PDF."
   ]
  },
  {
   "cell_type": "code",
   "execution_count": null,
   "id": "cbd50fd1",
   "metadata": {},
   "outputs": [],
   "source": [
    "import matplotlib.pyplot as plt\n",
    "import numpy as np"
   ]
  },
  {
   "cell_type": "code",
   "execution_count": null,
   "id": "3e7599d8",
   "metadata": {},
   "outputs": [],
   "source": [
    "# Generate 1000 random numbers distributed uniformly between [0,1]\n",
    "n = 1000\n",
    "x = np.random.uniform(low=0.0, high=1.0, size=n)"
   ]
  },
  {
   "cell_type": "code",
   "execution_count": null,
   "id": "3e34b8ce",
   "metadata": {},
   "outputs": [],
   "source": [
    "# Histogram into 100 bins\n",
    "width = 1/100\n",
    "histmin = np.floor(0.0)\n",
    "histmax = np.ceil(1.0) + width\n",
    "\n",
    "bins = np.arange(histmin, histmax, width)\n",
    "\n",
    "# Plot histogram\n",
    "plt.hist(x, bins=bins, alpha=0.5, edgecolor='black')\n",
    "\n",
    "# Label axes\n",
    "plt.title('Uniform Distribution')\n",
    "plt.ylabel('N per bin')\n",
    "plt.xlabel('x')\n",
    "\n",
    "# Save as pdf\n",
    "plt.savefig('session9_histogram.pdf', bbox_inches='tight', facecolor='white')"
   ]
  }
 ],
 "metadata": {
  "kernelspec": {
   "display_name": "Python 3 (ipykernel)",
   "language": "python",
   "name": "python3"
  },
  "language_info": {
   "codemirror_mode": {
    "name": "ipython",
    "version": 3
   },
   "file_extension": ".py",
   "mimetype": "text/x-python",
   "name": "python",
   "nbconvert_exporter": "python",
   "pygments_lexer": "ipython3",
   "version": "3.8.10"
  }
 },
 "nbformat": 4,
 "nbformat_minor": 5
}
