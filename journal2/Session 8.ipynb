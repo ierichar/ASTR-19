{
 "cells": [
  {
   "cell_type": "markdown",
   "id": "9cc72b58",
   "metadata": {},
   "source": [
    "# Session 8\n",
    "Ian Richardson\n",
    "\n",
    "ASTR 19\n",
    "\n",
    "May 3rd, 2022\n",
    "\n",
    "### Description\n",
    "This program imports matplotlib. This program writes cells that create an array x ranging from [0,1] in 100 steps and that defines functions that return sin(x) and cos(x).  Next, the program creates a multipanel plot (1 row, 2 columns), plotting sin(x) vs. x in the left panel and cos(x) vs. x in the right panel. The panels are labeled with sin(x) and cos(x), and save the figure as a PDF."
   ]
  },
  {
   "cell_type": "code",
   "execution_count": null,
   "id": "1f39cd33",
   "metadata": {},
   "outputs": [],
   "source": [
    "import matplotlib.pyplot as plt\n",
    "import numpy as np"
   ]
  },
  {
   "cell_type": "code",
   "execution_count": null,
   "id": "3be2961d",
   "metadata": {},
   "outputs": [],
   "source": [
    "x = np.linspace(start=0,stop=1,num=100)"
   ]
  },
  {
   "cell_type": "code",
   "execution_count": null,
   "id": "acab9aa8",
   "metadata": {},
   "outputs": [],
   "source": [
    "def sin(x):\n",
    "    return np.sin(x)"
   ]
  },
  {
   "cell_type": "code",
   "execution_count": null,
   "id": "4379f069",
   "metadata": {},
   "outputs": [],
   "source": [
    "def cos(x):\n",
    "    return np.cos(x)"
   ]
  },
  {
   "cell_type": "code",
   "execution_count": null,
   "id": "029a3671",
   "metadata": {},
   "outputs": [],
   "source": [
    "f, axarr = plt.subplots(1, 2)\n",
    "\n",
    "axarr[0].plot(x, sin(x))\n",
    "axarr[0].set_xlabel('x')\n",
    "axarr[0].set_ylabel('sin(x)')\n",
    "axarr[0].set_title(r'$\\sin(x)$')\n",
    "\n",
    "axarr[1].plot(x, cos(x))\n",
    "axarr[1].set_xlabel('x')\n",
    "axarr[1].set_ylabel('cos(x)')\n",
    "axarr[1].set_title(r'$\\cos(x)$')\n",
    "\n",
    "f.savefig('session8.pdf', facecolor='green')"
   ]
  }
 ],
 "metadata": {
  "kernelspec": {
   "display_name": "Python 3 (ipykernel)",
   "language": "python",
   "name": "python3"
  },
  "language_info": {
   "codemirror_mode": {
    "name": "ipython",
    "version": 3
   },
   "file_extension": ".py",
   "mimetype": "text/x-python",
   "name": "python",
   "nbconvert_exporter": "python",
   "pygments_lexer": "ipython3",
   "version": "3.8.10"
  }
 },
 "nbformat": 4,
 "nbformat_minor": 5
}
