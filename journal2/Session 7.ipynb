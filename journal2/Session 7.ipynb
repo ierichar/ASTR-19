{
 "cells": [
  {
   "cell_type": "markdown",
   "id": "bc8c3e57",
   "metadata": {},
   "source": [
    "# Session 7\n",
    "#### Ian Richardson\n",
    "#### ASTR 19\n",
    "#### April 26th, 2022\n",
    "This program imports matplotlib. This program creates cells in an array x ranging from [0,1] in 100 steps and defines a function that returns exp(x). The program uses the function to set y=exp(x), and then plot x vs. y. Then, the plot labels the x-axis as “Time [milliseconds]” and the y-axis as “Awesomeness”. Save the figure as a PDF."
   ]
  },
  {
   "cell_type": "code",
   "execution_count": null,
   "id": "e6f16b06",
   "metadata": {},
   "outputs": [],
   "source": [
    "import numpy as np\n",
    "import matplotlib.pyplot as plt"
   ]
  },
  {
   "cell_type": "code",
   "execution_count": null,
   "id": "ffb94eeb",
   "metadata": {},
   "outputs": [],
   "source": [
    "STEPS = 100.0\n",
    "x = np.arange(0, 1 + 1/STEPS, (1/STEPS))\n",
    "print(x)"
   ]
  },
  {
   "cell_type": "code",
   "execution_count": null,
   "id": "2372059e",
   "metadata": {},
   "outputs": [],
   "source": [
    "def exp(x):\n",
    "    return np.exp(x)"
   ]
  },
  {
   "cell_type": "code",
   "execution_count": null,
   "id": "0ab99d42",
   "metadata": {},
   "outputs": [],
   "source": [
    "y = exp(x)\n",
    "\n",
    "plt.plot(x,y)\n",
    "plt.xlabel(\"Time [milliseconds]\")\n",
    "plt.ylabel(\"Awesomeness\")\n",
    "plt.show()"
   ]
  },
  {
   "cell_type": "code",
   "execution_count": null,
   "id": "c193fa18",
   "metadata": {},
   "outputs": [],
   "source": [
    "plt.savefig('session7.pdf', facecolor='blue')"
   ]
  }
 ],
 "metadata": {
  "kernelspec": {
   "display_name": "Python 3 (ipykernel)",
   "language": "python",
   "name": "python3"
  },
  "language_info": {
   "codemirror_mode": {
    "name": "ipython",
    "version": 3
   },
   "file_extension": ".py",
   "mimetype": "text/x-python",
   "name": "python",
   "nbconvert_exporter": "python",
   "pygments_lexer": "ipython3",
   "version": "3.8.10"
  }
 },
 "nbformat": 4,
 "nbformat_minor": 5
}
